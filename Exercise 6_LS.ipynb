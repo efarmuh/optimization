{
 "cells": [
  {
   "cell_type": "markdown",
   "metadata": {},
   "source": [
    "# Problem 1 Solution:"
   ]
  },
  {
   "cell_type": "markdown",
   "metadata": {},
   "source": [
    "$\\text{Proj}_C(y)$ defines that any point $y \\notin C$ is first projected to the nearest point in set $C$ by using $\\text{Proj}_C(y) = \\text{argmin}_x ||y-x||^2$ "
   ]
  },
  {
   "cell_type": "markdown",
   "metadata": {},
   "source": [
    "A point $x \\in C$ is more closer to the projected point $\\text{Proj}_C(y)$ than it is to a point $y \\notin C$. This implies that\n",
    "\n",
    "$||x_{n+1} - x ||^2 = ||\\text{Proj}_C(x_n - \\gamma_n s_n)- x ||^2 \\le || x_n - x ||^2 - 2 \\gamma_n ( f(x_n)-f(x)) + \\gamma_n^2 ||s_n||^2$"
   ]
  },
  {
   "cell_type": "markdown",
   "metadata": {},
   "source": [
    "The distance between the point $(x_n - \\gamma_n s_n)$ and the projected point $x_{n+1}$ in set $C$ can be computed by using $|| x_{n+1} - (x_n - \\gamma_n s_n) ||^2$. If the projected point is obtained via the orthogonal projection, then it is located at the boundary of the set $C$, we can rewrite above inequality as:\n",
    "\n",
    "$||x_{n+1} - x ||^2 \\le || x_n - x ||^2 - 2 \\gamma_n ( f(x_n)-f(x)) - || x_{n+1} - (x_n - \\gamma_n s_n) ||^2 + \\gamma_n^2 ||s_n||^2$\n",
    "\n",
    "Fundamental inequality is the only part to be adapted to check the convergence of projected subgradient. Boundedness of sequence of iterates $\\{x_n\\}$, sub-differentials and function values follows the same method as described in lectures for the convergence of subgradient method."
   ]
  },
  {
   "cell_type": "markdown",
   "metadata": {},
   "source": [
    "# Problem 2 Solution:"
   ]
  },
  {
   "cell_type": "markdown",
   "metadata": {},
   "source": [
    "Since for the projected sub-gradient\n",
    "\n",
    "$||x_{n+1} - x ||^2 = ||\\text{Proj}_C(x_n - \\gamma_n s_n)- x ||^2 \\le || x_n - x ||^2 - 2 \\gamma_n ( f(x_n)-f(x)) + \\gamma_n^2 ||s_n||^2$\n",
    "\n",
    "using $\\gamma_n := \\frac{f(x_n) - m}{||S_n||^2}$ in above inquality we get\n",
    "\n",
    "$||x_{n+1} - x ||^2  \\le || x_n - x ||^2 - 2 \\left( \\frac{f(x_n) - m}{||s_n||^2}\\right) ( f(x_n)-f(x)) + \\left( \\frac{f(x_n) - m}{||s_n||^2}\\right)^2 ||s_n||^2$\n",
    "\n",
    "\n",
    "In $f(x)$, $x$ denotes the optimium point  $\\bar{x}$ that minimizes the objective function, $x=\\bar{x}$\n",
    "And $f(x)=m$\n",
    "\n",
    "$||x_{n+1} - \\bar{x} ||^2  \\le || x_n - \\bar{x} ||^2 - 2 \\left( \\frac{f(x_n) - f(\\bar{x})}{||s_n||^2}\\right) ( f(x_n)-f(\\bar{x})) +  \\frac{(f(x_n) - m)^2}{||s_n||^2}$\n",
    "\n",
    "\n",
    "$||x_{n+1} - x ||^2  \\le || x_n - x ||^2 - 2 \\frac{(f(x_n) - f(\\bar{x}) )^2}{||s_n||^2} +  \\frac{(f(x_n) - f(\\bar{x})^2}{||s_n||^2}$\n",
    "\n",
    "Define above inequality for $n=0,...,N-1$ and summing those result in\n",
    "\n",
    "$||x_{N} - \\bar{x} ||^2  \\le || x_0 - \\bar{x} ||^2 - \\sum_{n=0}^{N-1} \\frac{(f(x_n) - f(\\bar{x}) )^2}{||s_n||^2} $\n",
    "\n",
    "Which leads to \n",
    "\n",
    "$\\sum_{n=0}^{N-1} \\frac{(f(x_n) - f(\\bar{x}) )^2}{||s_n||^2} + ||x_{N} - \\bar{x} ||^2  \\le || x_0 - \\bar{x} ||^2 $\n",
    "\n",
    "\n",
    "Relationship between $||x_{N} - \\bar{x} ||^2$ and $\\sum_{n=0}^{N-1} (f(\\bar{x})-m))^2 / ||s_n||^2$?\n"
   ]
  },
  {
   "cell_type": "markdown",
   "metadata": {},
   "source": [
    "# Problem 3: shortest path"
   ]
  },
  {
   "cell_type": "markdown",
   "metadata": {},
   "source": [
    "**Steps for sub-gradient algorithm implementation**\n",
    "\n",
    "1. Suppose $C$ is a closed ball of radius 3 in $\\mathbb{R}^2$ centred at $(0,0)$. Distance from start point $a=(0,0)$ to target point $b=(1,2)$ is 2.23. Therefore we limit the search of shortest path within the ball of radius 3 centred at point (0,0) for convenience.\n",
    "2. Generate $N-1$ random points within a sphere of radius 3 in $\\mathbb{R}^2$. These N-1 points together with the starting and ending points are saved as $\\boldsymbol{x}_0$. \n",
    "3. Compute sub-gradient at each individual point $\\partial f(\\boldsymbol{x}_k)$\n",
    "5. Compute the step size during the $n^{\\text{th}}$ iteration by $\\gamma_n = \\frac{a}{(b+n)||S_n||}$\n",
    "6. Projection is done by scaling the initial path by its norm.\n"
   ]
  },
  {
   "cell_type": "markdown",
   "metadata": {},
   "source": [
    "## Implementation of Sub-gradient method for shortest path search:"
   ]
  },
  {
   "cell_type": "code",
   "execution_count": 376,
   "metadata": {},
   "outputs": [],
   "source": [
    "import numpy as np\n",
    "import math\n",
    "import matplotlib\n",
    "import matplotlib.pyplot as plt"
   ]
  },
  {
   "cell_type": "markdown",
   "metadata": {},
   "source": [
    "#### Function: Random path generator"
   ]
  },
  {
   "cell_type": "code",
   "execution_count": 377,
   "metadata": {},
   "outputs": [],
   "source": [
    "def randompath(N,a,b):\n",
    "    numSteps = N+1\n",
    "    x = np.linspace(a[0], b[0], numSteps)\n",
    "    y = np.linspace(a[1], b[1], numSteps)\n",
    "    noise = np.random.normal(0,1,numSteps)\n",
    "    yNoisy = y + 20 * noise - 10\n",
    "    y[1:N] = yNoisy[1:N] \n",
    "    path = [x,y] # This one is a list, array[list] can also be used\n",
    "    A = np.asarray(path)\n",
    "    return A"
   ]
  },
  {
   "cell_type": "markdown",
   "metadata": {},
   "source": [
    "#### Function: Objective Function"
   ]
  },
  {
   "cell_type": "code",
   "execution_count": 378,
   "metadata": {},
   "outputs": [],
   "source": [
    "def fv(path,N):\n",
    "    fvalue = 0;\n",
    "    for x in range(N):\n",
    "        xpt = path[0][x+1] - path[0][x]\n",
    "        ypt = path[1][x+1] - path[1][x]\n",
    "        fvalue += np.sqrt(xpt**2 + ypt**2)\n",
    "    return fvalue"
   ]
  },
  {
   "cell_type": "markdown",
   "metadata": {},
   "source": [
    "#### Function: Calculate sub-gradient of function $f(\\boldsymbol{x})$, here $\\boldsymbol{x}$ is a point during the $n^{th}$ iteration:\n",
    "\n",
    "Let $f(\\boldsymbol{x}) = f(\\boldsymbol{x_1}) + f(\\boldsymbol{x_2}) +,...,+ f(\\boldsymbol{x_N}) = \\sum_{k=1}^N ||\\boldsymbol{x}_k - \\boldsymbol{x}_{k-1}||$.\n",
    "\n",
    "Where each $\\boldsymbol{x}_k = (x_{k,1},x_{k,2})$ for $k=1,...,N$\n",
    "\n",
    "Then the sub-gradient of $\\partial f(\\boldsymbol{x})$ is a matrix of size $N \\times 2$. Each row $S_k$ of the gradient matrix $S$ is computed as $S_k = \\partial f(\\boldsymbol{x}_k) = \\left(  \\frac{\\partial f(\\boldsymbol{x}_k)}{\\partial x_{k,1}}, \\frac{\\partial f(\\boldsymbol{x}_k)}{\\partial x_{k,2}} \\right) $\n",
    "\n",
    "For Euclidean norm, the sub-gradients are computed as follows:\n",
    "\n",
    "1. If $ \\boldsymbol{x_k} - \\boldsymbol{x_{k-1}} = \\boldsymbol{0}$, then sub-gradient $S$ can be any point within a sphere of unit radius in $\\mathbb{R}^2$.\n",
    "\n",
    "2. If $ \\boldsymbol{x_k} - \\boldsymbol{x_{k-1}} \\neq \\boldsymbol{0}$, then sub-gradient can be computed uniquely by using $S_k = (S_{k,0}, S_{k,1}) = \\partial f(\\boldsymbol{x_k}) =\\frac{\\boldsymbol{x_k} - \\boldsymbol{x_{k-1}}}{||\\boldsymbol{x_k} - \\boldsymbol{x_{k-1}}||} $"
   ]
  },
  {
   "cell_type": "code",
   "execution_count": 379,
   "metadata": {},
   "outputs": [],
   "source": [
    "def sg(path,N):\n",
    "    S = np.zeros((2,N))\n",
    "    for x in range(N):\n",
    "        xpt = path[0][x+1] - path[0][x]\n",
    "        ypt = path[1][x+1] - path[1][x]\n",
    "        S[0][x] = xpt/np.sqrt(xpt**2 + ypt**2)\n",
    "        S[1][x] = ypt/np.sqrt(xpt**2 + ypt**2)\n",
    "        # check if any component is zero\n",
    "        if xpt == 0:\n",
    "            S[0][x] = 0.5;\n",
    "        if ypt == 0:\n",
    "            S[1][x] = 0.5;\n",
    "    return S"
   ]
  },
  {
   "cell_type": "markdown",
   "metadata": {},
   "source": [
    "#### Function1: Projected sub-gradient method using a step  $\\gamma_n = \\frac{a}{(b-a+n)||S_n||^2}$\n",
    "\n",
    "Here $n=1,2,...$ deontes iteration, Both $a$ and $b$ are positive real numbers. Let $S_n = S $\n",
    "\n",
    "then $||S|| = \\sqrt{ \\sum_{k=1}^{N} (S_{k,0}^2+S_{k,1}^2) } $"
   ]
  },
  {
   "cell_type": "code",
   "execution_count": 380,
   "metadata": {},
   "outputs": [],
   "source": [
    "def sub_gradient_1(maxitr,N,a,b,sa,sb):\n",
    "# function use the basic step definition\n",
    "    \n",
    "    radius = 10\n",
    "    x_n = randompath(N,a,b)\n",
    "    x0 = np.copy(x_n)\n",
    "    scale = np.linalg.norm(np.squeeze(np.asarray(x_n)))\n",
    "    x_n = x_n/scale;\n",
    "    x0=x0/scale;\n",
    "    \n",
    "    n = 0\n",
    "    #x_np1 = tuple(x0[:])\n",
    "    S = sg(x0,N)\n",
    "    x_opt = x0;\n",
    "    f_opt = fv(x0,N)\n",
    "    fval = np.zeros(maxitr+1)\n",
    "    gammaA = np.zeros(maxitr+1)\n",
    "    while 1:\n",
    "        fval[n] = fv(x_n*scale,N)\n",
    "        gamma =  sa/((sb+n+1) * np.linalg.norm(np.squeeze(np.asarray(S)))) #(S.mean(1)\n",
    "        temp = x_n[:,1:] - gamma * S\n",
    "        # project here\n",
    "        x_n[:,1:-1] = temp[:,:-1]\n",
    "        \n",
    "        if fv(x_n,N) < f_opt:\n",
    "            n_opt = n\n",
    "            f_opt = fv(x_np1,N)\n",
    "            x_opt = np.copy(x_n)\n",
    "        \n",
    "        # Ergodic Convergence rate\n",
    "        gammaA[n] = gamma\n",
    "        \n",
    "        # Inequality 1 check\n",
    "        \n",
    "        n += 1        \n",
    "        S = sg(x_n,N)\n",
    "        if n>maxitr:\n",
    "            print('Exiting loop at n = {}'.format(n))\n",
    "            break\n",
    "    return fval,scale*x_n,scale*x0,gammaA\n",
    "    #return fval,x_n,x0,gammaA"
   ]
  },
  {
   "cell_type": "markdown",
   "metadata": {},
   "source": [
    "## Shortest Path"
   ]
  },
  {
   "cell_type": "code",
   "execution_count": 381,
   "metadata": {},
   "outputs": [
    {
     "name": "stdout",
     "output_type": "stream",
     "text": [
      "Exiting loop at n = 1001\n"
     ]
    }
   ],
   "source": [
    "N = 10\n",
    "a =[0,0]\n",
    "b =[1,2]\n",
    "sa = 1\n",
    "sb = 1\n",
    "maxitr = 1000\n",
    "fval,x_np1,x0,gamma =sub_gradient_1(maxitr,N,a,b,sa,sb)\n"
   ]
  },
  {
   "cell_type": "markdown",
   "metadata": {},
   "source": [
    "#### Resultant Shortest path from the sub-gradient method"
   ]
  },
  {
   "cell_type": "code",
   "execution_count": 382,
   "metadata": {},
   "outputs": [
    {
     "data": {
      "text/plain": [
       "[<matplotlib.lines.Line2D at 0x168b3c5cf70>]"
      ]
     },
     "execution_count": 382,
     "metadata": {},
     "output_type": "execute_result"
    },
    {
     "data": {
      "image/png": "[encoded data removed]",
      "text/plain": [
       "<Figure size 432x288 with 1 Axes>"
      ]
     },
     "metadata": {
      "needs_background": "light"
     },
     "output_type": "display_data"
    }
   ],
   "source": [
    "plt.plot(x_np1[0,:], x_np1[1,:], 'ro')"
   ]
  },
  {
   "cell_type": "markdown",
   "metadata": {},
   "source": [
    "#### Initial Path"
   ]
  },
  {
   "cell_type": "code",
   "execution_count": 383,
   "metadata": {},
   "outputs": [
    {
     "data": {
      "text/plain": [
       "[<matplotlib.lines.Line2D at 0x168b3cb2d00>]"
      ]
     },
     "execution_count": 383,
     "metadata": {},
     "output_type": "execute_result"
    },
    {
     "data": {
      "image/png": "[encoded data removed]",
      "text/plain": [
       "<Figure size 432x288 with 1 Axes>"
      ]
     },
     "metadata": {
      "needs_background": "light"
     },
     "output_type": "display_data"
    }
   ],
   "source": [
    "plt.plot(x0[0,:], x0[1,:], 'ro')"
   ]
  },
  {
   "cell_type": "markdown",
   "metadata": {},
   "source": [
    "#### Function values vs Iterations"
   ]
  },
  {
   "cell_type": "code",
   "execution_count": 384,
   "metadata": {},
   "outputs": [
    {
     "data": {
      "text/plain": [
       "[<matplotlib.lines.Line2D at 0x168b3d07520>]"
      ]
     },
     "execution_count": 384,
     "metadata": {},
     "output_type": "execute_result"
    },
    {
     "data": {
      "image/png": "[encoded data removed]",
      "text/plain": [
       "<Figure size 432x288 with 1 Axes>"
      ]
     },
     "metadata": {
      "needs_background": "light"
     },
     "output_type": "display_data"
    }
   ],
   "source": [
    "plt.plot(fval)"
   ]
  },
  {
   "cell_type": "code",
   "execution_count": null,
   "metadata": {},
   "outputs": [],
   "source": []
  }
 ],
 "metadata": {
  "kernelspec": {
   "display_name": "Python 3",
   "language": "python",
   "name": "python3"
  },
  "language_info": {
   "codemirror_mode": {
    "name": "ipython",
    "version": 3
   },
   "file_extension": ".py",
   "mimetype": "text/x-python",
   "name": "python",
   "nbconvert_exporter": "python",
   "pygments_lexer": "ipython3",
   "version": "3.8.5"
  }
 },
 "nbformat": 4,
 "nbformat_minor": 4
}
